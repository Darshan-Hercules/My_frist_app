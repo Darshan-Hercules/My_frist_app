{
  "nbformat": 4,
  "nbformat_minor": 0,
  "metadata": {
    "colab": {
      "provenance": []
    },
    "kernelspec": {
      "name": "python3",
      "display_name": "Python 3"
    },
    "language_info": {
      "name": "python"
    }
  },
  "cells": [
    {
      "cell_type": "markdown",
      "source": [
        "Write a program to check whether a number entered by the user is even or odd."
      ],
      "metadata": {
        "id": "WSRKIAWWbo2e"
      }
    },
    {
      "cell_type": "code",
      "source": [
        "a=int(input(\"enter a number \"))\n",
        "if a%2==0:\n",
        "  print(f\"{a} is an even number\")\n",
        "else:\n",
        "  print(f\"{a} is an odd number\")"
      ],
      "metadata": {
        "id": "0iCcGQlFbqwv"
      },
      "execution_count": null,
      "outputs": []
    },
    {
      "cell_type": "markdown",
      "source": [
        "Ask the user to enter a number and print whether it is positive, negative, or zero."
      ],
      "metadata": {
        "id": "G9mNlOmubz1n"
      }
    },
    {
      "cell_type": "code",
      "source": [
        "a=int(input(\"enter a number\"))\n",
        "if a>0:\n",
        "  print(f\"{a} is a positive number\")\n",
        "elif a<0:\n",
        "  print(f\"{a} is a negative number\")\n",
        "else :\n",
        "  print(f\"{a} = 0\")"
      ],
      "metadata": {
        "id": "KdS7cWfTcEy3"
      },
      "execution_count": null,
      "outputs": []
    },
    {
      "cell_type": "markdown",
      "source": [
        "Take two numbers as input and print which one is larger (or if both are equal)."
      ],
      "metadata": {
        "id": "aucENPc5cvGU"
      }
    },
    {
      "cell_type": "code",
      "source": [
        "a=int(input(\"enter a number\"))\n",
        "b=int(input(\"enter a number\"))\n",
        "if a>b:\n",
        "  print(f\"{a} is greater than {b}\")\n",
        "elif a<b:\n",
        "  print(f\"{b}is greater than {a}\")\n",
        "else:\n",
        "  print(f\"{a} is equal to {b}\")"
      ],
      "metadata": {
        "id": "9S7TEPhbc23w"
      },
      "execution_count": null,
      "outputs": []
    },
    {
      "cell_type": "markdown",
      "source": [
        "Check if a given year is a leap year."
      ],
      "metadata": {
        "id": "5P8o-D41c6_E"
      }
    },
    {
      "cell_type": "code",
      "source": [
        "year=int(input(\"enter a year\"))\n",
        "if year%400==0:\n",
        "  print(f\"{year} is a leap year\")\n",
        "else:\n",
        "  print(f\"{year} is not a leap year\")"
      ],
      "metadata": {
        "id": "qIshEla7c-fX"
      },
      "execution_count": null,
      "outputs": []
    },
    {
      "cell_type": "markdown",
      "source": [
        "Take marks as input and print grades:\n",
        "\n",
        "≥90: A\n",
        "\n",
        "≥80: B\n",
        "\n",
        "≥70: C\n",
        "\n",
        "≥60: D\n",
        "\n",
        "Else: F"
      ],
      "metadata": {
        "id": "keVmCZrmdBV3"
      }
    },
    {
      "cell_type": "code",
      "source": [
        "a=int(input(\"enter marks\"))\n",
        "if a>=90 and a<=100:\n",
        "  print(\"A\")\n",
        "elif a>=80 and a<90:\n",
        "  print(\"B\")\n",
        "elif a>=70 and a<80:\n",
        "  print(\"C\")\n",
        "elif a>=60 and a<70:\n",
        "  print(\"D\")\n",
        "else:\n",
        "  print(\"F\")"
      ],
      "metadata": {
        "id": "XGTHeLeWdy_d"
      },
      "execution_count": null,
      "outputs": []
    },
    {
      "cell_type": "markdown",
      "source": [
        "Take a letter from the user and check if it's a vowel or consonant."
      ],
      "metadata": {
        "id": "3a0e0R7Pd3ou"
      }
    },
    {
      "cell_type": "code",
      "source": [
        "letter=input(\"enter a letter \")\n",
        "if letter==\"a\" or letter==\"e\" or letter==\"i\" or letter==\"o\" or letter==\"u\":\n",
        "  print(f\"{letter} is a vowel\")\n",
        "else:\n",
        "  print(f\"{letter} is a consonent\")"
      ],
      "metadata": {
        "id": "Qhxfs6mDd8NA"
      },
      "execution_count": null,
      "outputs": []
    },
    {
      "cell_type": "markdown",
      "source": [
        "Take a number and check if it's divisible by 3 and 5."
      ],
      "metadata": {
        "id": "bIFRmDeceCwh"
      }
    },
    {
      "cell_type": "code",
      "source": [
        "a=int(input(\"enter a number \"))\n",
        "if a%3==0 and a%5==0:\n",
        "  print(f\"{a} is divisible by 3 & 5\")\n",
        "else:\n",
        "  print(f\"{a} is not divisible by 3 & 5\")"
      ],
      "metadata": {
        "id": "tKuSYVlqeD77"
      },
      "execution_count": null,
      "outputs": []
    },
    {
      "cell_type": "markdown",
      "source": [
        "Take 3 sides and determine if it’s:\n",
        "\n",
        "Equilateral\n",
        "\n",
        "Isosceles\n",
        "\n",
        "Scalene"
      ],
      "metadata": {
        "id": "YP_Tosg5eKLU"
      }
    },
    {
      "cell_type": "code",
      "source": [
        "a=int(input(\"enter a side of triangle\"))\n",
        "b=int(input(\"enter a side of triangle\"))\n",
        "c=int(input(\"enter a side of triangle\"))\n",
        "if a==b==c:\n",
        "  print(f\"It is an equilateral triangle\")\n",
        "elif a==b or b==c or c==a:\n",
        "  print(f\"It is an isosceles triangle\")\n",
        "else:\n",
        "  print(f\"It is a scalene triangle\")\n"
      ],
      "metadata": {
        "id": "x_ujCYh4eLnW"
      },
      "execution_count": null,
      "outputs": []
    },
    {
      "cell_type": "markdown",
      "source": [
        "Input age and classify:\n",
        "\n",
        "Below 13: Child\n",
        "\n",
        "13 to 19: Teen\n",
        "\n",
        "20 to 59: Adult\n",
        "\n",
        "60+: Senior"
      ],
      "metadata": {
        "id": "kaSG4XOqeO2N"
      }
    },
    {
      "cell_type": "code",
      "source": [
        "age=int(input(\"enter age\"))\n",
        "if age<13:\n",
        "  print(\"Child\")\n",
        "elif age>=13 and age<=19:\n",
        "  print(\"Teen\")\n",
        "elif age>=20 and age<=59:\n",
        "  print(\"Adult\")\n",
        "else :\n",
        "  print(\"Senior\")"
      ],
      "metadata": {
        "id": "D5xTMMX6eUnf"
      },
      "execution_count": null,
      "outputs": []
    },
    {
      "cell_type": "markdown",
      "source": [
        "Check if a number is between 10 and 50 (inclusive)."
      ],
      "metadata": {
        "id": "BMdm5T3PeXrQ"
      }
    },
    {
      "cell_type": "code",
      "source": [
        "a=int(input(\"enter a number \"))\n",
        "if a>=10 and a<=50:\n",
        "  print(f\"{a} is between 10 and 50\")\n",
        "else:\n",
        "  print(f\"{a} is not in between 10 and 50\")"
      ],
      "metadata": {
        "id": "GV-8Xd8aecyV"
      },
      "execution_count": null,
      "outputs": []
    },
    {
      "cell_type": "markdown",
      "source": [
        "1. write a function to add two numbers."
      ],
      "metadata": {
        "id": "FZIaXqGqeiij"
      }
    },
    {
      "cell_type": "code",
      "source": [
        "def add(a,b):\n",
        "  print(a+b)\n",
        "\n",
        "add(3,4)"
      ],
      "metadata": {
        "id": "CRK3XpnwemlH",
        "colab": {
          "base_uri": "https://localhost:8080/"
        },
        "outputId": "0669b57e-24de-4864-8977-4e2c9018b49a"
      },
      "execution_count": null,
      "outputs": [
        {
          "output_type": "stream",
          "name": "stdout",
          "text": [
            "7\n"
          ]
        }
      ]
    },
    {
      "cell_type": "markdown",
      "source": [
        "2. write a function to check if a number is even."
      ],
      "metadata": {
        "id": "h8mfVMqNepP6"
      }
    },
    {
      "cell_type": "code",
      "source": [
        "def is_even(num):\n",
        "\n",
        "  if num % 2 == 0:\n",
        "    return True\n",
        "  else:\n",
        "    return False\n",
        "\n",
        "num = 10\n",
        "if is_even(num):\n",
        "  print(f\"{num} is even\")\n",
        "else:\n",
        "  print(f\"{num} is odd\")\n",
        "\n",
        "num = 7\n",
        "if is_even(num):\n",
        "  print(f\"{num} is even\")\n",
        "else:\n",
        "  print(f\"{num} is odd\")"
      ],
      "metadata": {
        "id": "dfu65yc8esB3",
        "colab": {
          "base_uri": "https://localhost:8080/"
        },
        "outputId": "8a6da7f1-2f82-457c-df97-8c7dda7c8102"
      },
      "execution_count": null,
      "outputs": [
        {
          "output_type": "stream",
          "name": "stdout",
          "text": [
            "10 is even\n",
            "7 is odd\n"
          ]
        }
      ]
    },
    {
      "cell_type": "markdown",
      "source": [
        "3. Write a function to find the factorial of a number.\n"
      ],
      "metadata": {
        "id": "kvfPVHjqe0-L"
      }
    },
    {
      "cell_type": "code",
      "source": [
        "n=int(input())\n",
        "fact=1\n",
        "for i in range (1,n+1):\n",
        "  fact=fact*i\n",
        "print(fact)\n"
      ],
      "metadata": {
        "id": "RzudKLk4e2KH",
        "colab": {
          "base_uri": "https://localhost:8080/"
        },
        "outputId": "e4fc7e12-aaae-48b5-bc95-2b8fdfa55329"
      },
      "execution_count": null,
      "outputs": [
        {
          "output_type": "stream",
          "name": "stdout",
          "text": [
            "5\n",
            "120\n"
          ]
        }
      ]
    },
    {
      "cell_type": "markdown",
      "source": [
        " 4. Write a function to return the maximum of three numbers"
      ],
      "metadata": {
        "id": "Xy_AP2eVe450"
      }
    },
    {
      "cell_type": "code",
      "source": [
        "def find_maximum(a, b, c):\n",
        "  \"\"\"\n",
        "  This function takes three numbers as input and returns the maximum among them.\n",
        "  \"\"\"\n",
        "  return max(a, b, c)"
      ],
      "metadata": {
        "id": "zR-kYAadfFd2"
      },
      "execution_count": null,
      "outputs": []
    },
    {
      "cell_type": "markdown",
      "source": [],
      "metadata": {
        "id": "3P3vNlF_8GwD"
      }
    },
    {
      "cell_type": "code",
      "source": [
        "num1 = 10\n",
        "num2 = 25\n",
        "num3 = 15\n",
        "\n",
        "maximum_number = find_maximum(num1, num2, num3)\n",
        "print(f\"The maximum of {num1}, {num2}, and {num3} is: {maximum_number}\")"
      ],
      "metadata": {
        "id": "xPPrBXOpfqOc",
        "colab": {
          "base_uri": "https://localhost:8080/"
        },
        "outputId": "985a2609-77e5-4fd0-a3f1-8a00481aca96"
      },
      "execution_count": null,
      "outputs": [
        {
          "output_type": "stream",
          "name": "stdout",
          "text": [
            "The maximum of 10, 25, and 15 is: 25\n"
          ]
        }
      ]
    },
    {
      "cell_type": "code",
      "source": [
        "num4 = 50\n",
        "num5 = 50\n",
        "num6 = 30\n",
        "\n",
        "maximum_number_2 = find_maximum(num4, num5, num6)\n",
        "print(f\"The maximum of {num4}, {num5}, and {num6} is: {maximum_number_2}\")"
      ],
      "metadata": {
        "id": "fPrq78CLfwkS",
        "colab": {
          "base_uri": "https://localhost:8080/"
        },
        "outputId": "90ecdf93-be48-4d4b-cb41-682d186c165f"
      },
      "execution_count": null,
      "outputs": [
        {
          "output_type": "stream",
          "name": "stdout",
          "text": [
            "The maximum of 50, 50, and 30 is: 50\n"
          ]
        }
      ]
    },
    {
      "cell_type": "markdown",
      "source": [
        "5. Write a function to check if a number is prime."
      ],
      "metadata": {
        "id": "Dtwg-zasf2UN"
      }
    },
    {
      "cell_type": "code",
      "source": [
        "def check_prime(a):\n",
        "  \"\"\"\n",
        "  This function checks if a number is prime.\n",
        "  \"\"\"\n",
        "  if a <= 1:\n",
        "    return False  # Numbers less than or equal to 1 are not prime\n",
        "  for i in range(2, int(a**0.5) + 1):\n",
        "    if a % i == 0:\n",
        "      return False  # If divisible by any number other than 1 and itself, it's not prime\n",
        "  return True # If no divisors found, it's prime\n",
        "\n",
        "number = 32\n",
        "\n",
        "prime_number = check_prime(number)\n",
        "print(f\"{number} is a prime number: {prime_number}\")\n",
        "\n",
        "number = 17\n",
        "prime_number = check_prime(number)\n",
        "print(f\"{number} is a prime number: {prime_number}\")"
      ],
      "metadata": {
        "id": "OF5juY1Sf3S2",
        "colab": {
          "base_uri": "https://localhost:8080/"
        },
        "outputId": "1713ab6a-0b3e-48cf-b910-e1a2d64d8fe7"
      },
      "execution_count": null,
      "outputs": [
        {
          "output_type": "stream",
          "name": "stdout",
          "text": [
            "32 is a prime number: False\n",
            "17 is a prime number: True\n"
          ]
        }
      ]
    },
    {
      "cell_type": "markdown",
      "source": [
        "6. Write a function to calculate the power of a number."
      ],
      "metadata": {
        "id": "kKfmd1kNgYYu"
      }
    },
    {
      "cell_type": "code",
      "metadata": {
        "id": "f4afc8f0",
        "colab": {
          "base_uri": "https://localhost:8080/"
        },
        "outputId": "649aad67-71cd-4537-e89c-0dff4b91779e"
      },
      "source": [
        "def calculate_power(base, exponent):\n",
        "  return base ** exponent\n",
        "\n",
        "# Example usage\n",
        "result = calculate_power(2, 3)\n",
        "print(f\"2 raised to the power of 3 is: {result}\")\n",
        "\n",
        "result = calculate_power(5, 0)\n",
        "print(f\"5 raised to the power of 0 is: {result}\")\n",
        "\n",
        "result = calculate_power(10, 2)\n",
        "print(f\"10 raised to the power of 2 is: {result}\")"
      ],
      "execution_count": null,
      "outputs": [
        {
          "output_type": "stream",
          "name": "stdout",
          "text": [
            "2 raised to the power of 3 is: 8\n",
            "5 raised to the power of 0 is: 1\n",
            "10 raised to the power of 2 is: 100\n"
          ]
        }
      ]
    },
    {
      "cell_type": "markdown",
      "source": [
        "7. Write a function to convert Celsius to Fahrenheit."
      ],
      "metadata": {
        "id": "UxwuPhL3hM2k"
      }
    },
    {
      "cell_type": "markdown",
      "source": [],
      "metadata": {
        "id": "dRd2B_DUhRAi"
      }
    },
    {
      "cell_type": "code",
      "metadata": {
        "id": "0bf746b3",
        "colab": {
          "base_uri": "https://localhost:8080/"
        },
        "outputId": "8393d562-31fa-4c7a-e79e-c3c26757b27c"
      },
      "source": [
        "def celsius_to_fahrenheit(celsius):\n",
        "  fahrenheit = (celsius * 9/5) + 32\n",
        "  return fahrenheit\n",
        "\n",
        "# Example usage\n",
        "celsius_temp = 25\n",
        "fahrenheit_temp = celsius_to_fahrenheit(celsius_temp)\n",
        "print(f\"{celsius_temp} degrees Celsius is equal to {fahrenheit_temp} degrees Fahrenheit.\")\n",
        "\n",
        "celsius_temp = 0\n",
        "fahrenheit_temp = celsius_to_fahrenheit(celsius_temp)\n",
        "print(f\"{celsius_temp} degrees Celsius is equal to {fahrenheit_temp} degrees Fahrenheit.\")\n",
        "\n",
        "celsius_temp = 100\n",
        "fahrenheit_temp = celsius_to_fahrenheit(celsius_temp)\n",
        "print(f\"{celsius_temp} degrees Celsius is equal to {fahrenheit_temp} degrees Fahrenheit.\")"
      ],
      "execution_count": null,
      "outputs": [
        {
          "output_type": "stream",
          "name": "stdout",
          "text": [
            "25 degrees Celsius is equal to 77.0 degrees Fahrenheit.\n",
            "0 degrees Celsius is equal to 32.0 degrees Fahrenheit.\n",
            "100 degrees Celsius is equal to 212.0 degrees Fahrenheit.\n"
          ]
        }
      ]
    },
    {
      "cell_type": "markdown",
      "source": [
        " 8. Write a function to convert Fahrenheit to Celsius"
      ],
      "metadata": {
        "id": "qC4P27jjhaf8"
      }
    },
    {
      "cell_type": "code",
      "metadata": {
        "id": "068ca014",
        "colab": {
          "base_uri": "https://localhost:8080/"
        },
        "outputId": "ac1dad7f-36af-475b-c41f-d4ee3202058b"
      },
      "source": [
        "def fahrenheit_to_celsius(fahrenheit):\n",
        "  celsius = (fahrenheit - 32) * 5/9\n",
        "  return celsius\n",
        "fahrenheit_temp = 77\n",
        "celsius_temp = fahrenheit_to_celsius(fahrenheit_temp)\n",
        "print(f\"{fahrenheit_temp} degrees Fahrenheit is equal to {celsius_temp} degrees Celsius.\")\n",
        "\n",
        "fahrenheit_temp = 32\n",
        "celsius_temp = fahrenheit_to_celsius(fahrenheit_temp)\n",
        "print(f\"{fahrenheit_temp} degrees Fahrenheit is equal to {celsius_temp} degrees Celsius.\")\n",
        "\n",
        "fahrenheit_temp = 212\n",
        "celsius_temp = fahrenheit_to_celsius(fahrenheit_temp)\n",
        "print(f\"{fahrenheit_temp} degrees Fahrenheit is equal to {celsius_temp} degrees Celsius.\")"
      ],
      "execution_count": null,
      "outputs": [
        {
          "output_type": "stream",
          "name": "stdout",
          "text": [
            "77 degrees Fahrenheit is equal to 25.0 degrees Celsius.\n",
            "32 degrees Fahrenheit is equal to 0.0 degrees Celsius.\n",
            "212 degrees Fahrenheit is equal to 100.0 degrees Celsius.\n"
          ]
        }
      ]
    },
    {
      "cell_type": "markdown",
      "source": [
        "9. Write a function to find the GCD of two numbers."
      ],
      "metadata": {
        "id": "X9WhBHcshsN4"
      }
    },
    {
      "cell_type": "markdown",
      "source": [],
      "metadata": {
        "id": "Yl5mMMpLhkyM"
      }
    },
    {
      "cell_type": "code",
      "metadata": {
        "id": "40fa24ca",
        "colab": {
          "base_uri": "https://localhost:8080/"
        },
        "outputId": "56bf2034-1d13-48f6-f4b3-ccf75b8c030a"
      },
      "source": [
        "import math\n",
        "\n",
        "def find_gcd(a, b):\n",
        "  return math.gcd(a, b)\n",
        "num1 = 48\n",
        "num2 = 18\n",
        "gcd_result = find_gcd(num1, num2)\n",
        "print(f\"The GCD of {num1} and {num2} is: {gcd_result}\")\n",
        "\n",
        "num3 = 101\n",
        "num4 = 103\n",
        "gcd_result_2 = find_gcd(num3, num4)\n",
        "print(f\"The GCD of {num3} and {num4} is: {gcd_result_2}\")"
      ],
      "execution_count": null,
      "outputs": [
        {
          "output_type": "stream",
          "name": "stdout",
          "text": [
            "The GCD of 48 and 18 is: 6\n",
            "The GCD of 101 and 103 is: 1\n"
          ]
        }
      ]
    },
    {
      "cell_type": "markdown",
      "source": [
        "10. Write a function to find the LCM of two numbers."
      ],
      "metadata": {
        "id": "HU4-CqcNh2RJ"
      }
    },
    {
      "cell_type": "code",
      "metadata": {
        "id": "7fdb7685",
        "colab": {
          "base_uri": "https://localhost:8080/"
        },
        "outputId": "8bb612a7-74f7-4b46-d4b9-d7ba444e6471"
      },
      "source": [
        "import math\n",
        "\n",
        "def find_lcm(a, b):\n",
        "  return abs(a*b) // math.gcd(a, b)\n",
        "num1 = 12\n",
        "num2 = 18\n",
        "lcm_result = find_lcm(num1, num2)\n",
        "print(f\"The LCM of {num1} and {num2} is: {lcm_result}\")\n",
        "\n",
        "num3 = 7\n",
        "num4 = 13\n",
        "lcm_result_2 = find_lcm(num3, num4)\n",
        "print(f\"The LCM of {num3} and {num4} is: {lcm_result_2}\")"
      ],
      "execution_count": null,
      "outputs": [
        {
          "output_type": "stream",
          "name": "stdout",
          "text": [
            "The LCM of 12 and 18 is: 36\n",
            "The LCM of 7 and 13 is: 91\n"
          ]
        }
      ]
    },
    {
      "cell_type": "markdown",
      "source": [
        "11. Write a function to calculate the sum of first n natural numbers"
      ],
      "metadata": {
        "id": "WOLMsNzHiCNP"
      }
    },
    {
      "cell_type": "code",
      "metadata": {
        "id": "1fe3708b",
        "colab": {
          "base_uri": "https://localhost:8080/"
        },
        "outputId": "2796e987-d429-4ef3-8256-fb1d1dc6395d"
      },
      "source": [
        "def sum_of_natural_numbers(n):\n",
        "  if n < 0:\n",
        "    return \"Input should be a non-negative integer\"\n",
        "  else:\n",
        "    return n * (n + 1) // 2\n",
        "\n",
        "# Example usage\n",
        "n = 10\n",
        "sum_result = sum_of_natural_numbers(n)\n",
        "print(f\"The sum of the first {n} natural numbers is: {sum_result}\")\n",
        "\n",
        "n = 0\n",
        "sum_result = sum_of_natural_numbers(n)\n",
        "print(f\"The sum of the first {n} natural numbers is: {sum_result}\")\n",
        "\n",
        "n = 5\n",
        "sum_result = sum_of_natural_numbers(n)\n",
        "print(f\"The sum of the first {n} natural numbers is: {sum_result}\")"
      ],
      "execution_count": null,
      "outputs": [
        {
          "output_type": "stream",
          "name": "stdout",
          "text": [
            "The sum of the first 10 natural numbers is: 55\n",
            "The sum of the first 0 natural numbers is: 0\n",
            "The sum of the first 5 natural numbers is: 15\n"
          ]
        }
      ]
    },
    {
      "cell_type": "markdown",
      "source": [
        "12. Write a function to return Fibonacci sequence up to n terms."
      ],
      "metadata": {
        "id": "Cj_3IsMuiVeJ"
      }
    },
    {
      "cell_type": "code",
      "metadata": {
        "id": "d19f6584",
        "colab": {
          "base_uri": "https://localhost:8080/"
        },
        "outputId": "6794095d-fb05-445b-a424-a4a52b9a6320"
      },
      "source": [
        "def fibonacci_sequence(n):\n",
        "\n",
        "  if n <= 0:\n",
        "    return []\n",
        "  elif n == 1:\n",
        "    return [0]\n",
        "  else:\n",
        "    sequence = [0, 1]\n",
        "    while len(sequence) < n:\n",
        "      next_term = sequence[-1] + sequence[-2]\n",
        "      sequence.append(next_term)\n",
        "    return sequence\n",
        "\n",
        "\n",
        "n = 10\n",
        "fib_sequence = fibonacci_sequence(n)\n",
        "print(f\"The Fibonacci sequence up to {n} terms is: {fib_sequence}\")\n",
        "\n",
        "n = 1\n",
        "fib_sequence = fibonacci_sequence(n)\n",
        "print(f\"The Fibonacci sequence up to {n} terms is: {fib_sequence}\")\n",
        "\n",
        "n = 0\n",
        "fib_sequence = fibonacci_sequence(n)\n",
        "print(f\"The Fibonacci sequence up to {n} terms is: {fib_sequence}\")"
      ],
      "execution_count": null,
      "outputs": [
        {
          "output_type": "stream",
          "name": "stdout",
          "text": [
            "The Fibonacci sequence up to 10 terms is: [0, 1, 1, 2, 3, 5, 8, 13, 21, 34]\n",
            "The Fibonacci sequence up to 1 terms is: [0]\n",
            "The Fibonacci sequence up to 0 terms is: []\n"
          ]
        }
      ]
    },
    {
      "cell_type": "markdown",
      "source": [
        "13. Write a function to get the nth Fibonacci number"
      ],
      "metadata": {
        "id": "JVpEvrfLimCR"
      }
    },
    {
      "cell_type": "code",
      "metadata": {
        "id": "835f8337",
        "colab": {
          "base_uri": "https://localhost:8080/"
        },
        "outputId": "1c0cd723-958b-4640-d9bd-1276ac3188b5"
      },
      "source": [
        "def nth_fibonacci_number(n):\n",
        "\n",
        "  if n <= 0:\n",
        "    return \"Input should be a positive integer\"\n",
        "  elif n == 1:\n",
        "    return 0\n",
        "  elif n == 2:\n",
        "    return 1\n",
        "  else:\n",
        "    a, b = 0, 1\n",
        "    for _ in range(2, n):\n",
        "      a, b = b, a + b\n",
        "    return b\n",
        "\n",
        "n = 10\n",
        "fib_number = nth_fibonacci_number(n)\n",
        "print(f\"The {n}th Fibonacci number is: {fib_number}\")\n",
        "\n",
        "n = 1\n",
        "fib_number = nth_fibonacci_number(n)\n",
        "print(f\"The {n}th Fibonacci number is: {fib_number}\")\n",
        "\n",
        "n = 5\n",
        "fib_number = nth_fibonacci_number(n)\n",
        "print(f\"The {n}th Fibonacci number is: {fib_number}\")"
      ],
      "execution_count": null,
      "outputs": [
        {
          "output_type": "stream",
          "name": "stdout",
          "text": [
            "The 10th Fibonacci number is: 34\n",
            "The 1th Fibonacci number is: 0\n",
            "The 5th Fibonacci number is: 3\n"
          ]
        }
      ]
    },
    {
      "cell_type": "markdown",
      "source": [
        "14. Write a function to convert a number to binary"
      ],
      "metadata": {
        "id": "axZAizkWi0xe"
      }
    },
    {
      "cell_type": "code",
      "metadata": {
        "id": "3801eca8",
        "colab": {
          "base_uri": "https://localhost:8080/"
        },
        "outputId": "8c43e90f-5a36-4cda-8bae-9d036d845814"
      },
      "source": [
        "def decimal_to_binary(number):\n",
        "\n",
        "  if number < 0:\n",
        "    return \"Input should be a non-negative integer\"\n",
        "  elif number == 0:\n",
        "    return \"0\"\n",
        "  else:\n",
        "    binary = \"\"\n",
        "    while number > 0:\n",
        "      binary = str(number % 2) + binary\n",
        "      number //= 2\n",
        "    return binary\n",
        "\n",
        "num = 10\n",
        "binary_representation = decimal_to_binary(num)\n",
        "print(f\"The binary representation of {num} is: {binary_representation}\")\n",
        "\n",
        "num = 0\n",
        "binary_representation = decimal_to_binary(num)\n",
        "print(f\"The binary representation of {num} is: {binary_representation}\")\n",
        "\n",
        "num = 25\n",
        "binary_representation = decimal_to_binary(num)\n",
        "print(f\"The binary representation of {num} is: {binary_representation}\")"
      ],
      "execution_count": null,
      "outputs": [
        {
          "output_type": "stream",
          "name": "stdout",
          "text": [
            "The binary representation of 10 is: 1010\n",
            "The binary representation of 0 is: 0\n",
            "The binary representation of 25 is: 11001\n"
          ]
        }
      ]
    },
    {
      "cell_type": "markdown",
      "source": [
        "15. Write a function to check whether a number is positive, negative, or zero"
      ],
      "metadata": {
        "id": "sKm8kZVwjCxo"
      }
    },
    {
      "cell_type": "code",
      "metadata": {
        "id": "95379fc9",
        "colab": {
          "base_uri": "https://localhost:8080/"
        },
        "outputId": "66322e33-8be5-44ad-e698-79ba32dab760"
      },
      "source": [
        "def check_number_sign(number):\n",
        "\n",
        "  if number > 0:\n",
        "    print(f\"{number} is a positive number\")\n",
        "  elif number < 0:\n",
        "    print(f\"{number} is a negative number\")\n",
        "  else:\n",
        "    print(f\"{number} is zero\")\n",
        "\n",
        "num = 10\n",
        "check_number_sign(num)\n",
        "\n",
        "num = -5\n",
        "check_number_sign(num)\n",
        "\n",
        "num = 0\n",
        "check_number_sign(num)"
      ],
      "execution_count": null,
      "outputs": [
        {
          "output_type": "stream",
          "name": "stdout",
          "text": [
            "10 is a positive number\n",
            "-5 is a negative number\n",
            "0 is zero\n"
          ]
        }
      ]
    },
    {
      "cell_type": "markdown",
      "source": [
        "16. Write a function to check whether a number is divisible by 5 and 11 or not."
      ],
      "metadata": {
        "id": "10y0W6QDjN7B"
      }
    },
    {
      "cell_type": "code",
      "metadata": {
        "id": "d8168c39",
        "colab": {
          "base_uri": "https://localhost:8080/"
        },
        "outputId": "3be4a08f-1722-44b1-e77b-1f2984943755"
      },
      "source": [
        "def check_divisibility(number):\n",
        "\n",
        "  if number % 5 == 0 and number % 11 == 0:\n",
        "    print(f\"{number} is divisible by both 5 and 11\")\n",
        "  else:\n",
        "    print(f\"{number} is not divisible by both 5 and 11\")\n",
        "\n",
        "# Example usage\n",
        "num = 55\n",
        "check_divisibility(num)\n",
        "\n",
        "num = 10\n",
        "check_divisibility(num)\n",
        "\n",
        "num = 121\n",
        "check_divisibility(num)"
      ],
      "execution_count": null,
      "outputs": [
        {
          "output_type": "stream",
          "name": "stdout",
          "text": [
            "55 is divisible by both 5 and 11\n",
            "10 is not divisible by both 5 and 11\n",
            "121 is not divisible by both 5 and 11\n"
          ]
        }
      ]
    },
    {
      "cell_type": "markdown",
      "source": [
        "17. Write a function to check whether a year is a leap year or not."
      ],
      "metadata": {
        "id": "y0pFN9eDjXlY"
      }
    },
    {
      "cell_type": "code",
      "metadata": {
        "id": "445ced78",
        "colab": {
          "base_uri": "https://localhost:8080/"
        },
        "outputId": "8868c57f-8d1b-4920-bd97-2cba6dad9e0b"
      },
      "source": [
        "def is_leap_year(year):\n",
        "\n",
        "  if (year % 4 == 0 and year % 100 != 0) or (year % 400 == 0):\n",
        "    print(f\"{year} is a leap year\")\n",
        "  else:\n",
        "    print(f\"{year} is not a leap year\")\n",
        "\n",
        "year = 2000\n",
        "is_leap_year(year)\n",
        "\n",
        "year = 1900\n",
        "is_leap_year(year)\n",
        "\n",
        "year = 2024\n",
        "is_leap_year(year)\n",
        "\n",
        "year = 2023\n",
        "is_leap_year(year)"
      ],
      "execution_count": null,
      "outputs": [
        {
          "output_type": "stream",
          "name": "stdout",
          "text": [
            "2000 is a leap year\n",
            "1900 is not a leap year\n",
            "2024 is a leap year\n",
            "2023 is not a leap year\n"
          ]
        }
      ]
    },
    {
      "cell_type": "markdown",
      "source": [
        "18. Write a function to input basic salary and calculate gross salary.\n"
      ],
      "metadata": {
        "id": "uBOFJucajhbK"
      }
    },
    {
      "cell_type": "code",
      "metadata": {
        "id": "10d1ccf2",
        "colab": {
          "base_uri": "https://localhost:8080/"
        },
        "outputId": "6059562e-5816-4c2f-cc22-55d17abebc59"
      },
      "source": [
        "def calculate_gross_salary(basic_salary):\n",
        "\n",
        "  hra = 0.10 * basic_salary\n",
        "  da = 0.50 * basic_salary\n",
        "  gross_salary = basic_salary + hra + da\n",
        "  return gross_salary\n",
        "\n",
        "basic_salary = float(input(\"Enter basic salary: \"))\n",
        "gross_salary = calculate_gross_salary(basic_salary)\n",
        "print(f\"The basic salary is: {basic_salary}\")\n",
        "print(f\"The gross salary is: {gross_salary}\")"
      ],
      "execution_count": null,
      "outputs": [
        {
          "output_type": "stream",
          "name": "stdout",
          "text": [
            "Enter basic salary: 400\n",
            "The basic salary is: 400.0\n",
            "The gross salary is: 640.0\n"
          ]
        }
      ]
    },
    {
      "cell_type": "markdown",
      "source": [
        "19. Write a function to calculate the simple interest."
      ],
      "metadata": {
        "id": "FSyKu4tQj1VR"
      }
    },
    {
      "cell_type": "code",
      "metadata": {
        "id": "76aebfa3",
        "colab": {
          "base_uri": "https://localhost:8080/"
        },
        "outputId": "9d255bc1-80af-4260-8e17-0e80b5367bd8"
      },
      "source": [
        "def calculate_simple_interest(principal, rate, time):\n",
        "\n",
        "  simple_interest = (principal * rate * time) / 100\n",
        "  return simple_interest\n",
        "\n",
        "\n",
        "principal = 10000\n",
        "rate = 5\n",
        "time = 3\n",
        "simple_interest = calculate_simple_interest(principal, rate, time)\n",
        "print(f\"The simple interest for a principal of {principal}, rate of {rate}%, and time of {time} years is: {simple_interest}\")\n",
        "\n",
        "principal = 5000\n",
        "rate = 7.5\n",
        "time = 2\n",
        "simple_interest = calculate_simple_interest(principal, rate, time)\n",
        "print(f\"The simple interest for a principal of {principal}, rate of {rate}%, and time of {time} years is: {simple_interest}\")"
      ],
      "execution_count": null,
      "outputs": [
        {
          "output_type": "stream",
          "name": "stdout",
          "text": [
            "The simple interest for a principal of 10000, rate of 5%, and time of 3 years is: 1500.0\n",
            "The simple interest for a principal of 5000, rate of 7.5%, and time of 2 years is: 750.0\n"
          ]
        }
      ]
    },
    {
      "cell_type": "markdown",
      "source": [
        " 20. Write a function to calculate the compound interest."
      ],
      "metadata": {
        "id": "t0q9N4B9j9u9"
      }
    },
    {
      "cell_type": "code",
      "metadata": {
        "id": "4ceff4d0",
        "colab": {
          "base_uri": "https://localhost:8080/"
        },
        "outputId": "3e4d5223-ffd8-4163-ada3-6a7d6638bd17"
      },
      "source": [
        "def calculate_compound_interest(principal, rate, time, compound_frequency):\n",
        "\n",
        "\n",
        "  compound_interest = principal * (pow((1 + rate / compound_frequency), time * compound_frequency)) - principal\n",
        "  return compound_interest\n",
        "\n",
        "\n",
        "principal = 10000\n",
        "rate = 0.05\n",
        "time = 3\n",
        "compound_frequency = 1\n",
        "compound_interest = calculate_compound_interest(principal, rate, time, compound_frequency)\n",
        "print(f\"The compound interest for a principal of {principal}, rate of {rate*100}%, time of {time} years, compounded annually is: {compound_interest:.2f}\")\n",
        "\n",
        "\n",
        "principal = 10000\n",
        "rate = 0.05\n",
        "time = 3\n",
        "compound_frequency = 2\n",
        "compound_interest = calculate_compound_interest(principal, rate, time, compound_frequency)\n",
        "print(f\"The compound interest for a principal of {principal}, rate of {rate*100}%, time of {time} years, compounded semi-annually is: {compound_interest:.2f}\")"
      ],
      "execution_count": null,
      "outputs": [
        {
          "output_type": "stream",
          "name": "stdout",
          "text": [
            "The compound interest for a principal of 10000, rate of 5.0%, time of 3 years, compounded annually is: 1576.25\n",
            "The compound interest for a principal of 10000, rate of 5.0%, time of 3 years, compounded semi-annually is: 1596.93\n"
          ]
        }
      ]
    },
    {
      "cell_type": "markdown",
      "source": [
        "21. Write a function to calculate the area of a triangle."
      ],
      "metadata": {
        "id": "FqP34JQ9kUF4"
      }
    },
    {
      "cell_type": "code",
      "metadata": {
        "id": "e586c839",
        "colab": {
          "base_uri": "https://localhost:8080/"
        },
        "outputId": "0b548e4b-0c65-48de-e03a-538d3097768f"
      },
      "source": [
        "def calculate_triangle_area(base, height):\n",
        "\n",
        "  area = 0.5 * base * height\n",
        "  return area\n",
        "\n",
        "\n",
        "base = 10\n",
        "height = 5\n",
        "area = calculate_triangle_area(base, height)\n",
        "print(f\"The area of a triangle with base {base} and height {height} is: {area}\")\n",
        "\n",
        "base = 7.5\n",
        "height = 12\n",
        "area = calculate_triangle_area(base, height)\n",
        "print(f\"The area of a triangle with base {base} and height {height} is: {area}\")"
      ],
      "execution_count": null,
      "outputs": [
        {
          "output_type": "stream",
          "name": "stdout",
          "text": [
            "The area of a triangle with base 10 and height 5 is: 25.0\n",
            "The area of a triangle with base 7.5 and height 12 is: 45.0\n"
          ]
        }
      ]
    },
    {
      "cell_type": "markdown",
      "source": [
        "22. Write a function to calculate the perimeter of a rectangle."
      ],
      "metadata": {
        "id": "txC6WNxkkkAc"
      }
    },
    {
      "cell_type": "code",
      "metadata": {
        "id": "41f1b05c",
        "colab": {
          "base_uri": "https://localhost:8080/"
        },
        "outputId": "4d9d506f-c12b-4d82-ebb1-c234303cac16"
      },
      "source": [
        "def calculate_rectangle_perimeter(length, width):\n",
        "  perimeter = 2 * (length + width)\n",
        "  return perimeter\n",
        "\n",
        "\n",
        "length = 10\n",
        "width = 5\n",
        "perimeter = calculate_rectangle_perimeter(length, width)\n",
        "print(f\"The perimeter of a rectangle with length {length} and width {width} is: {perimeter}\")\n",
        "\n",
        "length = 7.5\n",
        "width = 12\n",
        "perimeter = calculate_rectangle_perimeter(length, width)\n",
        "print(f\"The perimeter of a rectangle with length {length} and width {width} is: {perimeter}\")"
      ],
      "execution_count": null,
      "outputs": [
        {
          "output_type": "stream",
          "name": "stdout",
          "text": [
            "The perimeter of a rectangle with length 10 and width 5 is: 30\n",
            "The perimeter of a rectangle with length 7.5 and width 12 is: 39.0\n"
          ]
        }
      ]
    },
    {
      "cell_type": "markdown",
      "source": [
        "23. Write a function to calculate the square and cube of a number"
      ],
      "metadata": {
        "id": "1l9Zl3CYk2bj"
      }
    },
    {
      "cell_type": "code",
      "metadata": {
        "id": "6bb6f1ae",
        "colab": {
          "base_uri": "https://localhost:8080/"
        },
        "outputId": "b848cd32-8216-4edb-b664-bd268940f046"
      },
      "source": [
        "def calculate_square_and_cube(number):\n",
        "\n",
        "  square = number ** 2\n",
        "  cube = number ** 3\n",
        "  return square, cube\n",
        "\n",
        "\n",
        "num = 5\n",
        "square_result, cube_result = calculate_square_and_cube(num)\n",
        "print(f\"The square of {num} is: {square_result}\")\n",
        "print(f\"The cube of {num} is: {cube_result}\")\n",
        "\n",
        "num = 10\n",
        "square_result, cube_result = calculate_square_and_cube(num)\n",
        "print(f\"The square of {num} is: {square_result}\")\n",
        "print(f\"The cube of {num} is: {cube_result}\")"
      ],
      "execution_count": null,
      "outputs": [
        {
          "output_type": "stream",
          "name": "stdout",
          "text": [
            "The square of 5 is: 25\n",
            "The cube of 5 is: 125\n",
            "The square of 10 is: 100\n",
            "The cube of 10 is: 1000\n"
          ]
        }
      ]
    },
    {
      "cell_type": "markdown",
      "source": [
        "24. Write a function to swap two numbers without using a temporary variable."
      ],
      "metadata": {
        "id": "i1hMZYkklFRm"
      }
    },
    {
      "cell_type": "code",
      "metadata": {
        "id": "828f9042",
        "colab": {
          "base_uri": "https://localhost:8080/"
        },
        "outputId": "e384da28-11df-41e0-adf2-230fcad1e2ee"
      },
      "source": [
        "def swap_numbers(a, b):\n",
        "  print(f\"Before swapping: a = {a}, b = {b}\")\n",
        "  a, b = b, a\n",
        "  print(f\"After swapping: a = {a}, b = {b}\")\n",
        "  return a, b\n",
        "\n",
        "num1 = 10\n",
        "num2 = 20\n",
        "swap_numbers(num1, num2)\n",
        "\n",
        "num3 = -5\n",
        "num4 = 15\n",
        "swap_numbers(num3, num4)"
      ],
      "execution_count": null,
      "outputs": [
        {
          "output_type": "stream",
          "name": "stdout",
          "text": [
            "Before swapping: a = 10, b = 20\n",
            "After swapping: a = 20, b = 10\n",
            "Before swapping: a = -5, b = 15\n",
            "After swapping: a = 15, b = -5\n"
          ]
        },
        {
          "output_type": "execute_result",
          "data": {
            "text/plain": [
              "(15, -5)"
            ]
          },
          "metadata": {},
          "execution_count": 28
        }
      ]
    },
    {
      "cell_type": "markdown",
      "source": [
        "25. Write a function to solve a quadratic equation (assume real roots)"
      ],
      "metadata": {
        "id": "BJOjNxVYlRV7"
      }
    },
    {
      "cell_type": "code",
      "metadata": {
        "id": "1df8c575",
        "colab": {
          "base_uri": "https://localhost:8080/"
        },
        "outputId": "bf530fb5-fb1e-4efd-cb16-605940d828db"
      },
      "source": [
        "import math\n",
        "\n",
        "def solve_quadratic_equation(a, b, c):\n",
        "  discriminant = (b**2) - 4*(a*c)\n",
        "\n",
        "\n",
        "  if discriminant < 0:\n",
        "    return \"The equation has no real roots.\"\n",
        "  else:\n",
        "\n",
        "    root1 = (-b - math.sqrt(discriminant)) / (2*a)\n",
        "    root2 = (-b + math.sqrt(discriminant)) / (2*a)\n",
        "    return root1, root2\n",
        "\n",
        "a = 1\n",
        "b = -5\n",
        "c = 6\n",
        "roots = solve_quadratic_equation(a, b, c)\n",
        "print(f\"The roots of the quadratic equation {a}x^2 + {b}x + {c} = 0 are: {roots}\")\n",
        "\n",
        "\n",
        "a = 2\n",
        "b = 4\n",
        "c = 2\n",
        "roots = solve_quadratic_equation(a, b, c)\n",
        "print(f\"The roots of the quadratic equation {a}x^2 + {b}x + {c} = 0 are: {roots}\")\n",
        "\n",
        "a = 1\n",
        "b = 1\n",
        "c = 1\n",
        "roots = solve_quadratic_equation(a, b, c)\n",
        "print(f\"The roots of the quadratic equation {a}x^2 + {b}x + {c} = 0 are: {roots}\")"
      ],
      "execution_count": null,
      "outputs": [
        {
          "output_type": "stream",
          "name": "stdout",
          "text": [
            "The roots of the quadratic equation 1x^2 + -5x + 6 = 0 are: (2.0, 3.0)\n",
            "The roots of the quadratic equation 2x^2 + 4x + 2 = 0 are: (-1.0, -1.0)\n",
            "The roots of the quadratic equation 1x^2 + 1x + 1 = 0 are: The equation has no real roots.\n"
          ]
        }
      ]
    },
    {
      "cell_type": "markdown",
      "source": [
        "26. Write a function to find whether a number is Armstrong or not"
      ],
      "metadata": {
        "id": "vfWqKfillnxY"
      }
    },
    {
      "cell_type": "code",
      "metadata": {
        "id": "c2a7e46c",
        "colab": {
          "base_uri": "https://localhost:8080/"
        },
        "outputId": "73e9c982-70a0-484c-f839-230864975372"
      },
      "source": [
        "def is_armstrong_number(number):\n",
        "\n",
        "  num_str = str(number)\n",
        "  num_digits = len(num_str)\n",
        "\n",
        "\n",
        "  armstrong_sum = 0\n",
        "  for digit in num_str:\n",
        "    armstrong_sum += int(digit) ** num_digits\n",
        "\n",
        "\n",
        "  if armstrong_sum == number:\n",
        "    return True\n",
        "  else:\n",
        "    return False\n",
        "\n",
        "\n",
        "num = 153\n",
        "print(f\"{num} is an Armstrong number: {is_armstrong_number(num)}\")\n",
        "\n",
        "num = 9474\n",
        "print(f\"{num} is an Armstrong number: {is_armstrong_number(num)}\")\n",
        "\n",
        "num = 123\n",
        "print(f\"{num} is an Armstrong number: {is_armstrong_number(num)}\")"
      ],
      "execution_count": null,
      "outputs": [
        {
          "output_type": "stream",
          "name": "stdout",
          "text": [
            "153 is an Armstrong number: True\n",
            "9474 is an Armstrong number: True\n",
            "123 is an Armstrong number: False\n"
          ]
        }
      ]
    },
    {
      "cell_type": "markdown",
      "source": [
        "27. Write a function to find the sum of digits of a number."
      ],
      "metadata": {
        "id": "B76hsfKKmm3W"
      }
    },
    {
      "cell_type": "code",
      "metadata": {
        "id": "31fceca3",
        "colab": {
          "base_uri": "https://localhost:8080/"
        },
        "outputId": "57560ef3-3f73-46a7-d4ba-606195cab63c"
      },
      "source": [
        "def sum_of_digits(number):\n",
        "\n",
        "  num_str = str(number)\n",
        "  digit_sum = 0\n",
        "  for digit in num_str:\n",
        "    digit_sum += int(digit)\n",
        "  return digit_sum\n",
        "\n",
        "\n",
        "num = 123\n",
        "sum_result = sum_of_digits(num)\n",
        "print(f\"The sum of digits of {num} is: {sum_result}\")\n",
        "\n",
        "num = 9876\n",
        "sum_result = sum_of_digits(num)\n",
        "print(f\"The sum of digits of {num} is: {sum_result}\")\n",
        "\n",
        "num = 0\n",
        "sum_result = sum_of_digits(num)\n",
        "print(f\"The sum of digits of {num} is: {sum_result}\")"
      ],
      "execution_count": null,
      "outputs": [
        {
          "output_type": "stream",
          "name": "stdout",
          "text": [
            "The sum of digits of 123 is: 6\n",
            "The sum of digits of 9876 is: 30\n",
            "The sum of digits of 0 is: 0\n"
          ]
        }
      ]
    },
    {
      "cell_type": "markdown",
      "source": [
        "28. Write a function to reverse a number"
      ],
      "metadata": {
        "id": "lFllteiymyaz"
      }
    },
    {
      "cell_type": "code",
      "metadata": {
        "id": "36f14b23",
        "colab": {
          "base_uri": "https://localhost:8080/",
          "height": 350
        },
        "outputId": "6b4ec796-e325-4339-ba1c-a003f04a92c2"
      },
      "source": [
        "def reverse_number(number):\n",
        "\n",
        "  return int(str(number)[::-1])\n",
        "num = 12345\n",
        "reversed_num = reverse_number(num)\n",
        "print(f\"The reverse of {num} is: {reversed_num}\")\n",
        "\n",
        "num = 9870\n",
        "reversed_num = reverse_number(num)\n",
        "print(f\"The reverse of {num} is: {reversed_num}\")\n",
        "\n",
        "num = -123\n",
        "reversed_num = reverse_number(num)\n",
        "print(f\"The reverse of {num} is: {reversed_num}\")"
      ],
      "execution_count": null,
      "outputs": [
        {
          "output_type": "stream",
          "name": "stdout",
          "text": [
            "The reverse of 12345 is: 54321\n",
            "The reverse of 9870 is: 789\n"
          ]
        },
        {
          "output_type": "error",
          "ename": "ValueError",
          "evalue": "invalid literal for int() with base 10: '321-'",
          "traceback": [
            "\u001b[0;31m---------------------------------------------------------------------------\u001b[0m",
            "\u001b[0;31mValueError\u001b[0m                                Traceback (most recent call last)",
            "\u001b[0;32m/tmp/ipython-input-3661213871.py\u001b[0m in \u001b[0;36m<cell line: 0>\u001b[0;34m()\u001b[0m\n\u001b[1;32m     11\u001b[0m \u001b[0;34m\u001b[0m\u001b[0m\n\u001b[1;32m     12\u001b[0m \u001b[0mnum\u001b[0m \u001b[0;34m=\u001b[0m \u001b[0;34m-\u001b[0m\u001b[0;36m123\u001b[0m\u001b[0;34m\u001b[0m\u001b[0;34m\u001b[0m\u001b[0m\n\u001b[0;32m---> 13\u001b[0;31m \u001b[0mreversed_num\u001b[0m \u001b[0;34m=\u001b[0m \u001b[0mreverse_number\u001b[0m\u001b[0;34m(\u001b[0m\u001b[0mnum\u001b[0m\u001b[0;34m)\u001b[0m\u001b[0;34m\u001b[0m\u001b[0;34m\u001b[0m\u001b[0m\n\u001b[0m\u001b[1;32m     14\u001b[0m \u001b[0mprint\u001b[0m\u001b[0;34m(\u001b[0m\u001b[0;34mf\"The reverse of {num} is: {reversed_num}\"\u001b[0m\u001b[0;34m)\u001b[0m\u001b[0;34m\u001b[0m\u001b[0;34m\u001b[0m\u001b[0m\n",
            "\u001b[0;32m/tmp/ipython-input-3661213871.py\u001b[0m in \u001b[0;36mreverse_number\u001b[0;34m(number)\u001b[0m\n\u001b[1;32m      1\u001b[0m \u001b[0;32mdef\u001b[0m \u001b[0mreverse_number\u001b[0m\u001b[0;34m(\u001b[0m\u001b[0mnumber\u001b[0m\u001b[0;34m)\u001b[0m\u001b[0;34m:\u001b[0m\u001b[0;34m\u001b[0m\u001b[0;34m\u001b[0m\u001b[0m\n\u001b[1;32m      2\u001b[0m \u001b[0;34m\u001b[0m\u001b[0m\n\u001b[0;32m----> 3\u001b[0;31m   \u001b[0;32mreturn\u001b[0m \u001b[0mint\u001b[0m\u001b[0;34m(\u001b[0m\u001b[0mstr\u001b[0m\u001b[0;34m(\u001b[0m\u001b[0mnumber\u001b[0m\u001b[0;34m)\u001b[0m\u001b[0;34m[\u001b[0m\u001b[0;34m:\u001b[0m\u001b[0;34m:\u001b[0m\u001b[0;34m-\u001b[0m\u001b[0;36m1\u001b[0m\u001b[0;34m]\u001b[0m\u001b[0;34m)\u001b[0m\u001b[0;34m\u001b[0m\u001b[0;34m\u001b[0m\u001b[0m\n\u001b[0m\u001b[1;32m      4\u001b[0m \u001b[0mnum\u001b[0m \u001b[0;34m=\u001b[0m \u001b[0;36m12345\u001b[0m\u001b[0;34m\u001b[0m\u001b[0;34m\u001b[0m\u001b[0m\n\u001b[1;32m      5\u001b[0m \u001b[0mreversed_num\u001b[0m \u001b[0;34m=\u001b[0m \u001b[0mreverse_number\u001b[0m\u001b[0;34m(\u001b[0m\u001b[0mnum\u001b[0m\u001b[0;34m)\u001b[0m\u001b[0;34m\u001b[0m\u001b[0;34m\u001b[0m\u001b[0m\n",
            "\u001b[0;31mValueError\u001b[0m: invalid literal for int() with base 10: '321-'"
          ]
        }
      ]
    },
    {
      "cell_type": "markdown",
      "source": [
        "29. Write a function to count the number of digits in an integer"
      ],
      "metadata": {
        "id": "g9GwTwWTnIvQ"
      }
    },
    {
      "cell_type": "code",
      "metadata": {
        "id": "3cbcfb37",
        "colab": {
          "base_uri": "https://localhost:8080/"
        },
        "outputId": "fc8d44a7-aa3e-4e7d-83c1-018eb0b38b12"
      },
      "source": [
        "def count_digits(number):\n",
        "\n",
        "  return len(str(abs(number)))\n",
        "\n",
        "\n",
        "num = 12345\n",
        "digit_count = count_digits(num)\n",
        "print(f\"The number of digits in {num} is: {digit_count}\")\n",
        "\n",
        "num = -9870\n",
        "digit_count = count_digits(num)\n",
        "print(f\"The number of digits in {num} is: {digit_count}\")\n",
        "\n",
        "num = 0\n",
        "digit_count = count_digits(num)\n",
        "print(f\"The number of digits in {num} is: {digit_count}\")"
      ],
      "execution_count": null,
      "outputs": [
        {
          "output_type": "stream",
          "name": "stdout",
          "text": [
            "The number of digits in 12345 is: 5\n",
            "The number of digits in -9870 is: 4\n",
            "The number of digits in 0 is: 1\n"
          ]
        }
      ]
    },
    {
      "cell_type": "markdown",
      "source": [
        "30. Write a function to print multiplication table of a given number."
      ],
      "metadata": {
        "id": "1wB-055An1tL"
      }
    },
    {
      "cell_type": "code",
      "metadata": {
        "id": "1ff78b79",
        "colab": {
          "base_uri": "https://localhost:8080/"
        },
        "outputId": "6ae4449c-878d-457e-bda0-e0235dd2061e"
      },
      "source": [
        "def print_multiplication_table(number):\n",
        "  print(f\"Multiplication table for {number}:\")\n",
        "  for i in range(1, 11):\n",
        "    print(f\"{number} x {i} = {number * i}\")\n",
        "\n",
        "num = 7\n",
        "print_multiplication_table(num)\n",
        "\n",
        "num = 12\n",
        "print_multiplication_table(num)"
      ],
      "execution_count": null,
      "outputs": [
        {
          "output_type": "stream",
          "name": "stdout",
          "text": [
            "Multiplication table for 7:\n",
            "7 x 1 = 7\n",
            "7 x 2 = 14\n",
            "7 x 3 = 21\n",
            "7 x 4 = 28\n",
            "7 x 5 = 35\n",
            "7 x 6 = 42\n",
            "7 x 7 = 49\n",
            "7 x 8 = 56\n",
            "7 x 9 = 63\n",
            "7 x 10 = 70\n",
            "Multiplication table for 12:\n",
            "12 x 1 = 12\n",
            "12 x 2 = 24\n",
            "12 x 3 = 36\n",
            "12 x 4 = 48\n",
            "12 x 5 = 60\n",
            "12 x 6 = 72\n",
            "12 x 7 = 84\n",
            "12 x 8 = 96\n",
            "12 x 9 = 108\n",
            "12 x 10 = 120\n"
          ]
        }
      ]
    },
    {
      "cell_type": "markdown",
      "source": [
        "LOOP PROBLEMS"
      ],
      "metadata": {
        "id": "ERuZeoDW_qbl"
      }
    },
    {
      "cell_type": "markdown",
      "source": [
        "1. Print Numbers from 1 to 10"
      ],
      "metadata": {
        "id": "eLVxy5scABBW"
      }
    },
    {
      "cell_type": "code",
      "metadata": {
        "colab": {
          "base_uri": "https://localhost:8080/"
        },
        "id": "84f579d6",
        "outputId": "ed9cd01b-7ffc-4cfe-a042-379525856579"
      },
      "source": [
        "for i in range(1, 11):\n",
        "  print(i)"
      ],
      "execution_count": null,
      "outputs": [
        {
          "output_type": "stream",
          "name": "stdout",
          "text": [
            "1\n",
            "2\n",
            "3\n",
            "4\n",
            "5\n",
            "6\n",
            "7\n",
            "8\n",
            "9\n",
            "10\n"
          ]
        }
      ]
    },
    {
      "cell_type": "markdown",
      "source": [],
      "metadata": {
        "id": "QmG-3q_iARDc"
      }
    },
    {
      "cell_type": "markdown",
      "source": [
        "2. Print Even Numbers from 1 to 20"
      ],
      "metadata": {
        "id": "if-LheNxARG0"
      }
    },
    {
      "cell_type": "code",
      "metadata": {
        "colab": {
          "base_uri": "https://localhost:8080/"
        },
        "id": "5ca094d6",
        "outputId": "b6404881-3ed4-452f-97f9-91477b8e9cc5"
      },
      "source": [
        "for i in range(2, 21, 2):\n",
        "  print(i)"
      ],
      "execution_count": null,
      "outputs": [
        {
          "output_type": "stream",
          "name": "stdout",
          "text": [
            "2\n",
            "4\n",
            "6\n",
            "8\n",
            "10\n",
            "12\n",
            "14\n",
            "16\n",
            "18\n",
            "20\n"
          ]
        }
      ]
    },
    {
      "cell_type": "markdown",
      "source": [
        "3. Multiplication Table Generator"
      ],
      "metadata": {
        "id": "G4x0oqT6AbjI"
      }
    },
    {
      "cell_type": "code",
      "metadata": {
        "colab": {
          "base_uri": "https://localhost:8080/"
        },
        "id": "8aa82e6e",
        "outputId": "6c334c7c-001b-4281-a056-55ba14d4a130"
      },
      "source": [
        "number = int(input(\"Enter a number to generate its multiplication table: \"))\n",
        "\n",
        "print(f\"Multiplication table for {number}:\")\n",
        "for i in range(1, 11):\n",
        "  print(f\"{number} x {i} = {number * i}\")"
      ],
      "execution_count": null,
      "outputs": [
        {
          "output_type": "stream",
          "name": "stdout",
          "text": [
            "Enter a number to generate its multiplication table: 3\n",
            "Multiplication table for 3:\n",
            "3 x 1 = 3\n",
            "3 x 2 = 6\n",
            "3 x 3 = 9\n",
            "3 x 4 = 12\n",
            "3 x 5 = 15\n",
            "3 x 6 = 18\n",
            "3 x 7 = 21\n",
            "3 x 8 = 24\n",
            "3 x 9 = 27\n",
            "3 x 10 = 30\n"
          ]
        }
      ]
    },
    {
      "cell_type": "markdown",
      "source": [
        "4. Sum of First N Natural Numbers"
      ],
      "metadata": {
        "id": "Uipti82ZA8tf"
      }
    },
    {
      "cell_type": "code",
      "metadata": {
        "colab": {
          "base_uri": "https://localhost:8080/"
        },
        "id": "774e35a5",
        "outputId": "508abce5-346f-4c88-face-d69697c13c32"
      },
      "source": [
        "n = int(input(\"Enter a positive integer (N): \"))\n",
        "\n",
        "if n <= 0:\n",
        "  print(\"Please enter a positive integer.\")\n",
        "else:\n",
        "  sum_of_numbers = 0\n",
        "  for i in range(1, n + 1):\n",
        "    sum_of_numbers += i\n",
        "  print(f\"The sum of the first {n} natural numbers is: {sum_of_numbers}\")"
      ],
      "execution_count": null,
      "outputs": [
        {
          "output_type": "stream",
          "name": "stdout",
          "text": [
            "Enter a positive integer (N): 5\n",
            "The sum of the first 5 natural numbers is: 15\n"
          ]
        }
      ]
    },
    {
      "cell_type": "markdown",
      "source": [
        " 5. Calculate Factorial of a Number"
      ],
      "metadata": {
        "id": "qOZPqW9lBScO"
      }
    },
    {
      "cell_type": "code",
      "metadata": {
        "colab": {
          "base_uri": "https://localhost:8080/"
        },
        "id": "c7fee4ae",
        "outputId": "af129f01-e923-4e35-afc0-c99b0a4a3f97"
      },
      "source": [
        "num = int(input(\"Enter a non-negative integer: \"))\n",
        "\n",
        "if num < 0:\n",
        "  print(\"Factorial is not defined for negative numbers.\")\n",
        "elif num == 0:\n",
        "  print(\"The factorial of 0 is 1.\")\n",
        "else:\n",
        "  factorial = 1\n",
        "  for i in range(1, num + 1):\n",
        "    factorial *= i\n",
        "  print(f\"The factorial of {num} is: {factorial}\")"
      ],
      "execution_count": null,
      "outputs": [
        {
          "output_type": "stream",
          "name": "stdout",
          "text": [
            "Enter a non-negative integer: 6\n",
            "The factorial of 6 is: 720\n"
          ]
        }
      ]
    },
    {
      "cell_type": "markdown",
      "source": [
        "6. Fibonacci Series up to N Terms"
      ],
      "metadata": {
        "id": "E7eClEh0BguY"
      }
    },
    {
      "cell_type": "code",
      "metadata": {
        "colab": {
          "base_uri": "https://localhost:8080/"
        },
        "id": "40ac96a0",
        "outputId": "7fd35ad2-b78e-4b55-da83-2b60f87fa370"
      },
      "source": [
        "n_terms = int(input(\"Enter the number of terms for the Fibonacci sequence: \"))\n",
        "\n",
        "if n_terms <= 0:\n",
        "    print(\"Please enter a positive integer.\")\n",
        "elif n_terms == 1:\n",
        "    print(\"Fibonacci sequence up to 1 term:\", [0])\n",
        "else:\n",
        "    fib_sequence = [0, 1]\n",
        "    while len(fib_sequence) < n_terms:\n",
        "        next_term = fib_sequence[-1] + fib_sequence[-2]\n",
        "        fib_sequence.append(next_term)\n",
        "    print(f\"Fibonacci sequence up to {n_terms} terms: {fib_sequence}\")"
      ],
      "execution_count": null,
      "outputs": [
        {
          "output_type": "stream",
          "name": "stdout",
          "text": [
            "Enter the number of terms for the Fibonacci sequence: 7\n",
            "Fibonacci sequence up to 7 terms: [0, 1, 1, 2, 3, 5, 8]\n"
          ]
        }
      ]
    },
    {
      "cell_type": "markdown",
      "source": [
        " 7. Count Vowels in a String"
      ],
      "metadata": {
        "id": "dNLtsXgXBqpq"
      }
    },
    {
      "cell_type": "code",
      "metadata": {
        "colab": {
          "base_uri": "https://localhost:8080/"
        },
        "id": "a3e7a940",
        "outputId": "012e73c1-57e4-4d1a-d38c-b84738a0de87"
      },
      "source": [
        "input_string = input(\"Enter a string: \")\n",
        "vowel_count = 0\n",
        "vowels = \"aeiouAEIOU\"\n",
        "\n",
        "for char in input_string:\n",
        "  if char in vowels:\n",
        "    vowel_count += 1\n",
        "\n",
        "print(f\"The number of vowels in the string is: {vowel_count}\")"
      ],
      "execution_count": null,
      "outputs": [
        {
          "output_type": "stream",
          "name": "stdout",
          "text": [
            "Enter a string: 5\n",
            "The number of vowels in the string is: 0\n"
          ]
        }
      ]
    },
    {
      "cell_type": "markdown",
      "source": [
        " 8. Check if a Number is Prime"
      ],
      "metadata": {
        "id": "tDCkZicHB6Q6"
      }
    },
    {
      "cell_type": "code",
      "metadata": {
        "colab": {
          "base_uri": "https://localhost:8080/"
        },
        "id": "d29f2ef3",
        "outputId": "c84a34c0-086b-46c0-87de-23d4c9662342"
      },
      "source": [
        "num = int(input(\"Enter a positive integer: \"))\n",
        "\n",
        "if num <= 1:\n",
        "  print(f\"{num} is not a prime number.\")\n",
        "else:\n",
        "  is_prime = True\n",
        "  for i in range(2, int(num**0.5) + 1):\n",
        "    if num % i == 0:\n",
        "      is_prime = False\n",
        "      break\n",
        "  if is_prime:\n",
        "    print(f\"{num} is a prime number.\")\n",
        "  else:\n",
        "    print(f\"{num} is not a prime number.\")"
      ],
      "execution_count": null,
      "outputs": [
        {
          "output_type": "stream",
          "name": "stdout",
          "text": [
            "Enter a positive integer: 3\n",
            "3 is a prime number.\n"
          ]
        }
      ]
    },
    {
      "cell_type": "markdown",
      "source": [
        "9. Reverse a String Using Loop"
      ],
      "metadata": {
        "id": "FGFH_6kdCKiv"
      }
    },
    {
      "cell_type": "markdown",
      "source": [],
      "metadata": {
        "id": "E6lRoN5MCHZz"
      }
    },
    {
      "cell_type": "code",
      "metadata": {
        "colab": {
          "base_uri": "https://localhost:8080/"
        },
        "id": "a1d090fa",
        "outputId": "2d567e72-5903-4621-f9e9-718b3e66482f"
      },
      "source": [
        "input_string = input(\"Enter a string: \")\n",
        "reversed_string = \"\"\n",
        "\n",
        "for char in input_string:\n",
        "  reversed_string = char + reversed_string\n",
        "\n",
        "print(f\"The reversed string is: {reversed_string}\")"
      ],
      "execution_count": null,
      "outputs": [
        {
          "output_type": "stream",
          "name": "stdout",
          "text": [
            "Enter a string: 7\n",
            "The reversed string is: 7\n"
          ]
        }
      ]
    },
    {
      "cell_type": "markdown",
      "source": [
        "10. Print Star Triangle Pattern"
      ],
      "metadata": {
        "id": "XDFpfSQLClBo"
      }
    },
    {
      "cell_type": "code",
      "metadata": {
        "colab": {
          "base_uri": "https://localhost:8080/"
        },
        "id": "df5c368f",
        "outputId": "d18ba9ea-953f-440d-b047-4dd097ef5e7b"
      },
      "source": [
        "rows = int(input(\"Enter the number of rows for the star triangle: \"))\n",
        "\n",
        "for i in range(1, rows + 1):\n",
        "  print(\"*\" * i)"
      ],
      "execution_count": null,
      "outputs": [
        {
          "output_type": "stream",
          "name": "stdout",
          "text": [
            "Enter the number of rows for the star triangle: 7\n",
            "*\n",
            "**\n",
            "***\n",
            "****\n",
            "*****\n",
            "******\n",
            "*******\n"
          ]
        }
      ]
    },
    {
      "cell_type": "markdown",
      "source": [
        "11. Check Palindrome Word"
      ],
      "metadata": {
        "id": "LGKVCoNhCwIk"
      }
    },
    {
      "cell_type": "code",
      "metadata": {
        "colab": {
          "base_uri": "https://localhost:8080/"
        },
        "id": "575c5eff",
        "outputId": "fe9e5737-6f48-4b46-da9c-403fc774b3b3"
      },
      "source": [
        "word = input(\"Enter a word: \")\n",
        "if word == word[::-1]:\n",
        "  print(f\"{word} is a palindrome.\")\n",
        "else:\n",
        "  print(f\"{word} is not a palindrome.\")"
      ],
      "execution_count": null,
      "outputs": [
        {
          "output_type": "stream",
          "name": "stdout",
          "text": [
            "Enter a word: 6\n",
            "6 is a palindrome.\n"
          ]
        }
      ]
    },
    {
      "cell_type": "markdown",
      "source": [
        "12. Armstrong Number Check (3-Digit)"
      ],
      "metadata": {
        "id": "KjFjN1hCC5xa"
      }
    },
    {
      "cell_type": "code",
      "metadata": {
        "colab": {
          "base_uri": "https://localhost:8080/"
        },
        "id": "d5c583c3",
        "outputId": "a692f6af-8119-4318-8fea-12da8be82cca"
      },
      "source": [
        "num = int(input(\"Enter a 3-digit integer: \"))\n",
        "\n",
        "if 100 <= num <= 999:\n",
        "\n",
        "  sum_of_cubes = 0\n",
        "  temp = num\n",
        "  while temp > 0:\n",
        "    digit = temp % 10\n",
        "    sum_of_cubes += digit ** 3\n",
        "    temp //= 10\n",
        "\n",
        "\n",
        "  if num == sum_of_cubes:\n",
        "    print(f\"{num} is an Armstrong number.\")\n",
        "  else:\n",
        "    print(f\"{num} is not an Armstrong number.\")\n",
        "else:\n",
        "  print(\"Please enter a 3-digit integer.\")"
      ],
      "execution_count": null,
      "outputs": [
        {
          "output_type": "stream",
          "name": "stdout",
          "text": [
            "Enter a 3-digit integer: 6\n",
            "Please enter a 3-digit integer.\n"
          ]
        }
      ]
    },
    {
      "cell_type": "markdown",
      "source": [
        "13. Pyramid Pattern of Numbers"
      ],
      "metadata": {
        "id": "KBqpQ2oODOt9"
      }
    },
    {
      "cell_type": "code",
      "metadata": {
        "colab": {
          "base_uri": "https://localhost:8080/"
        },
        "id": "eb1a66e6",
        "outputId": "8cdaa893-2418-4cfb-ff75-a6d2f6f34c27"
      },
      "source": [
        "rows = int(input(\"Enter the number of rows for the number pyramid: \"))\n",
        "\n",
        "for i in range(1, rows + 1):\n",
        "\n",
        "  for j in range(rows - i):\n",
        "    print(\" \", end=\"\")\n",
        "\n",
        "  for k in range(1, i + 1):\n",
        "    print(k, end=\"\")\n",
        "  for l in range(i - 1, 0, -1):\n",
        "    print(l, end=\"\")\n",
        "  print()"
      ],
      "execution_count": null,
      "outputs": [
        {
          "output_type": "stream",
          "name": "stdout",
          "text": [
            "Enter the number of rows for the number pyramid: 3\n",
            "  1\n",
            " 121\n",
            "12321\n"
          ]
        }
      ]
    },
    {
      "cell_type": "markdown",
      "source": [
        "14. List All Prime Numbers in a Range"
      ],
      "metadata": {
        "id": "XgJIH08UDdUW"
      }
    },
    {
      "cell_type": "code",
      "metadata": {
        "colab": {
          "base_uri": "https://localhost:8080/"
        },
        "id": "5322a759",
        "outputId": "46bd1ac1-c3ff-4446-b294-fd542852a7fa"
      },
      "source": [
        "def is_prime(num):\n",
        "  \"\"\"Checks if a number is prime.\"\"\"\n",
        "  if num <= 1:\n",
        "    return False\n",
        "  for i in range(2, int(num**0.5) + 1):\n",
        "    if num % i == 0:\n",
        "      return False\n",
        "  return True\n",
        "\n",
        "start_range = int(input(\"Enter the starting number of the range: \"))\n",
        "end_range = int(input(\"Enter the ending number of the range: \"))\n",
        "\n",
        "print(f\"Prime numbers between {start_range} and {end_range}:\")\n",
        "for num in range(start_range, end_range + 1):\n",
        "  if is_prime(num):\n",
        "    print(num)"
      ],
      "execution_count": null,
      "outputs": [
        {
          "output_type": "stream",
          "name": "stdout",
          "text": [
            "Enter the starting number of the range: 5\n",
            "Enter the ending number of the range: 8\n",
            "Prime numbers between 5 and 8:\n",
            "5\n",
            "7\n"
          ]
        }
      ]
    },
    {
      "cell_type": "markdown",
      "source": [
        "15. Find the Maximum in a List"
      ],
      "metadata": {
        "id": "6sjtC1frDoQE"
      }
    },
    {
      "cell_type": "code",
      "metadata": {
        "colab": {
          "base_uri": "https://localhost:8080/"
        },
        "id": "ad316818",
        "outputId": "31909dd8-9bc3-41ac-eb75-7b331dfddd71"
      },
      "source": [
        "numbers = [10, 5, 23, 8, 15, 30, 2]\n",
        "\n",
        "maximum_number = numbers[0]\n",
        "for num in numbers:\n",
        "  if num > maximum_number:\n",
        "    maximum_number = num\n",
        "\n",
        "print(f\"The maximum number in the list is: {maximum_number}\")\n",
        "\n"
      ],
      "execution_count": null,
      "outputs": [
        {
          "output_type": "stream",
          "name": "stdout",
          "text": [
            "The maximum number in the list is: 30\n"
          ]
        }
      ]
    },
    {
      "cell_type": "markdown",
      "source": [
        "16. Floyd's Triangle Pattern"
      ],
      "metadata": {
        "id": "z-f7I7_LD0U8"
      }
    },
    {
      "cell_type": "code",
      "metadata": {
        "colab": {
          "base_uri": "https://localhost:8080/"
        },
        "id": "0f8c7b67",
        "outputId": "bf7b77af-46f6-40ac-b6d0-306bd5b78442"
      },
      "source": [
        "numbers = [10, 5, 23, 8, 15, 30, 2]\n",
        "\n",
        "maximum_number = numbers[0]\n",
        "for num in numbers:\n",
        "  if num > maximum_number:\n",
        "    maximum_number = num\n",
        "\n",
        "print(f\"The maximum number in the list is: {maximum_number}\")\n",
        "\n"
      ],
      "execution_count": null,
      "outputs": [
        {
          "output_type": "stream",
          "name": "stdout",
          "text": [
            "Enter the number of rows for Floyd's Triangle: 5\n",
            "1 \n",
            "2 3 \n",
            "4 5 6 \n",
            "7 8 9 10 \n",
            "11 12 13 14 15 \n"
          ]
        }
      ]
    },
    {
      "cell_type": "markdown",
      "source": [
        "17. Perfect Numbers in a Range"
      ],
      "metadata": {
        "id": "NVJcbGs8EAJB"
      }
    },
    {
      "cell_type": "code",
      "metadata": {
        "colab": {
          "base_uri": "https://localhost:8080/"
        },
        "id": "f9e18054",
        "outputId": "de478895-c797-4c3d-84aa-28470a9ee40b"
      },
      "source": [
        "def is_perfect_number(num):\n",
        "  if num <= 1:\n",
        "    return False\n",
        "  sum_of_divisors = 0\n",
        "  for i in range(1, num):\n",
        "    if num % i == 0:\n",
        "      sum_of_divisors += i\n",
        "  return sum_of_divisors == num\n",
        "\n",
        "start_range = int(input(\"Enter the starting number of the range: \"))\n",
        "end_range = int(input(\"Enter the ending number of the range: \"))\n",
        "\n",
        "print(f\"Perfect numbers between {start_range} and {end_range}:\")\n",
        "for num in range(start_range, end_range + 1):\n",
        "  if is_perfect_number(num):\n",
        "    print(num)"
      ],
      "execution_count": null,
      "outputs": [
        {
          "output_type": "stream",
          "name": "stdout",
          "text": [
            "Enter the starting number of the range: 5\n",
            "Enter the ending number of the range: 5\n",
            "Perfect numbers between 5 and 5:\n"
          ]
        }
      ]
    },
    {
      "cell_type": "markdown",
      "source": [
        "18. Create Dictionary of Squares"
      ],
      "metadata": {
        "id": "gb3bAP6qEJhm"
      }
    },
    {
      "cell_type": "code",
      "metadata": {
        "colab": {
          "base_uri": "https://localhost:8080/"
        },
        "id": "e4d5944e",
        "outputId": "e4c88da7-af61-4749-b163-3d249ac40068"
      },
      "source": [
        "\n",
        "squares_dict = {}\n",
        "for i in range(1, 11):\n",
        "  squares_dict[i] = i**2\n",
        "\n",
        "print(squares_dict)"
      ],
      "execution_count": null,
      "outputs": [
        {
          "output_type": "stream",
          "name": "stdout",
          "text": [
            "{1: 1, 2: 4, 3: 9, 4: 16, 5: 25, 6: 36, 7: 49, 8: 64, 9: 81, 10: 100}\n"
          ]
        }
      ]
    },
    {
      "cell_type": "markdown",
      "source": [
        "19. Number Triangle Pattern\n"
      ],
      "metadata": {
        "id": "IFVpRp3cEUMY"
      }
    },
    {
      "cell_type": "code",
      "metadata": {
        "id": "126ba93c",
        "colab": {
          "base_uri": "https://localhost:8080/"
        },
        "outputId": "c4993630-44e5-4d38-d788-2fb245053c2f"
      },
      "source": [
        "rows = int(input(\"Enter the number of rows for the number triangle: \"))\n",
        "\n",
        "for i in range(1, rows + 1):\n",
        "  for j in range(1, i + 1):\n",
        "    print(j, end=\" \")\n",
        "  print()"
      ],
      "execution_count": null,
      "outputs": [
        {
          "output_type": "stream",
          "name": "stdout",
          "text": [
            "Enter the number of rows for the number triangle: 6\n",
            "1 \n",
            "1 2 \n",
            "1 2 3 \n",
            "1 2 3 4 \n",
            "1 2 3 4 5 \n",
            "1 2 3 4 5 6 \n"
          ]
        }
      ]
    },
    {
      "cell_type": "markdown",
      "source": [
        "20. Binary to Decimal Conversion"
      ],
      "metadata": {
        "id": "8-NaAl9sEcuP"
      }
    },
    {
      "cell_type": "code",
      "metadata": {
        "colab": {
          "base_uri": "https://localhost:8080/"
        },
        "id": "be1db73a",
        "outputId": "81357704-f3f9-4b8d-baa6-518a4acf9b72"
      },
      "source": [
        "binary_number = input(\"Enter a binary number: \")\n",
        "\n",
        "decimal_number = int(binary_number, 2)\n",
        "\n",
        "print(f\"The decimal representation of {binary_number} is: {decimal_number}\")"
      ],
      "execution_count": null,
      "outputs": [
        {
          "output_type": "stream",
          "name": "stdout",
          "text": [
            "Enter a binary number: 01\n",
            "The decimal representation of 01 is: 1\n"
          ]
        }
      ]
    }
  ]
}